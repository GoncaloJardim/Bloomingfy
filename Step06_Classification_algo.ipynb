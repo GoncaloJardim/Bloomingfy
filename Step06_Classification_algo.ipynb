{
 "cells": [
  {
   "cell_type": "code",
   "execution_count": 131,
   "id": "717e469b-3124-4562-a60d-9b8b83a9a98b",
   "metadata": {},
   "outputs": [],
   "source": [
    "##Import libraries:\n",
    "\n",
    "import matplotlib.pyplot as plt\n",
    "import pandas as pd\n",
    "pd.options.mode.chained_assignment = None  # default='warn'\n",
    "import numpy as np\n",
    "import re\n",
    "import datetime\n",
    "import random"
   ]
  },
  {
   "cell_type": "code",
   "execution_count": null,
   "id": "bb43e1da-8978-4b22-b213-e9f55dbe8c55",
   "metadata": {},
   "outputs": [],
   "source": [
    "##Merge all dataframes to get the 250 rows:\n",
    "\n",
    "df_01 = pd.read_csv(r\"C:\\Users\\crocs\\OneDrive - Universidade de Lisboa\\Ambiente de Trabalho\\Gonçalo\\College&Courses\\Data Analytics- IronHack\\Course Data Analytics\\Projects\\FinalProject\\Mycode\\database\\last\\last_050.csv\")\n",
    "df_02 = pd.read_csv(r\"C:\\Users\\crocs\\OneDrive - Universidade de Lisboa\\Ambiente de Trabalho\\Gonçalo\\College&Courses\\Data Analytics- IronHack\\Course Data Analytics\\Projects\\FinalProject\\Mycode\\database\\last\\last_50_100.csv\")\n",
    "df_03 = pd.read_csv(r\"C:\\Users\\crocs\\OneDrive - Universidade de Lisboa\\Ambiente de Trabalho\\Gonçalo\\College&Courses\\Data Analytics- IronHack\\Course Data Analytics\\Projects\\FinalProject\\Mycode\\database\\last\\last_100_132.csv\")\n",
    "df_04 = pd.read_csv(r\"C:\\Users\\crocs\\OneDrive - Universidade de Lisboa\\Ambiente de Trabalho\\Gonçalo\\College&Courses\\Data Analytics- IronHack\\Course Data Analytics\\Projects\\FinalProject\\Mycode\\database\\last\\last_132_200.csv\")\n",
    "df_05 = pd.read_csv(r\"C:\\Users\\crocs\\OneDrive - Universidade de Lisboa\\Ambiente de Trabalho\\Gonçalo\\College&Courses\\Data Analytics- IronHack\\Course Data Analytics\\Projects\\FinalProject\\Mycode\\database\\last\\last_200_250.csv\")"
   ]
  },
  {
   "cell_type": "code",
   "execution_count": null,
   "id": "6363a43f-2ac8-46fb-abab-2b401becbbf9",
   "metadata": {},
   "outputs": [],
   "source": [
    "final_df = pd.concat([df_01,df_02,df_03,df_04,df_05], axis=0, join='outer',ignore_index=True)\n",
    "print(final_df.shape)\n",
    "final_df.head(7)"
   ]
  },
  {
   "cell_type": "code",
   "execution_count": null,
   "id": "c63c345c-1b46-4b4d-abb1-1d553aac4568",
   "metadata": {},
   "outputs": [],
   "source": [
    "#We still need to work on the fb_following dataframe column:  [don't use this]\n",
    "# final_df[\"following_fb\"] = final_df[\"following_fb\"].fillna(0)\n",
    "# for i in range(len(final_df)):\n",
    "#     if final_df[\"following_fb\"].iloc[i]  != 0:\n",
    "#         if \"disto\" in final_df[\"following_fb\"].iloc[i]:\n",
    "            \n",
    "#             final_df[\"following_fb\"].iloc[i] = final_df[\"following_fb\"].iloc[i].replace(\"['disto\",\"\").replace(\" pessoas']\",\"\")\n",
    "#         elif \"mil\" in final_df[\"following_fb\"].iloc[i]:\n",
    "#             final_df[\"following_fb\"].iloc[i] = float(final_df[\"following_fb\"].iloc[i].replace(\"\\xa0mil\",\"\").replace(\" seguidores\",\"\").replace(\",\",\".\"))*1000\n",
    "\n",
    "#         else:\n",
    "#             continue\n",
    "\n",
    "#     else : \n",
    "#         continue\n",
    "\n",
    "# #Treating the [pessoas X gostam disto ] type:\n",
    "# final_df[\"following_fb\"] = final_df[\"following_fb\"].fillna(0)\n",
    "# for i in range(len(final_df)):\n",
    "#     if final_df[\"following_fb\"].iloc[i]  != 0:\n",
    "#         if \"disto\" in final_df[\"following_fb\"].iloc[i]:\n",
    "            \n",
    "#             final_df[\"following_fb\"].iloc[i] = final_df[\"following_fb\"].iloc[i].replace(\"['disto\",\"\").replace(\" pessoas']\",\"\")\n",
    "\n",
    "#         else:\n",
    "#             continue\n",
    "\n",
    "# final_df[\"following_fb\"]= final_df[\"following_fb\"].astype(str)\n",
    "\n",
    "# for i in range(len(final_df)):\n",
    "#     if  \"seguidores\" in final_df[\"following_fb\"].iloc[i]:\n",
    "#         if \"mil\" in final_df[\"following_fb\"].iloc[i]:\n",
    "#             final_df[\"following_fb\"].iloc[i] = float(final_df[\"following_fb\"].iloc[i].replace(\"\\xa0mil\",\"\").replace(\" seguidores\",\"\").replace(\",\",\".\").replace(\"\\xa0M\",\"\"))*1000\n",
    "\n",
    "#         else:\n",
    "#             final_df[\"following_fb\"].iloc[i] = float(final_df[\"following_fb\"].iloc[i].replace(\" seguidores\",\"\").replace(\",\",\".\"))\n",
    "\n",
    "#     else : \n",
    "#         continue"
   ]
  },
  {
   "cell_type": "code",
   "execution_count": null,
   "id": "63b98788-50bd-4445-a012-d133c400f5f5",
   "metadata": {},
   "outputs": [],
   "source": [
    "a= final_df[\"following_fb\"].iloc[1].replace(\"\\xa0mil\",\"\").replace(\" seguidores\",\"\").replace(\",\",\".\")\n",
    "a = float(final_df)*1000"
   ]
  },
  {
   "cell_type": "code",
   "execution_count": null,
   "id": "4d91814d-cc93-44be-9eda-1b134ed1fa7d",
   "metadata": {},
   "outputs": [],
   "source": [
    "final_df[\"following_fb\"].value_counts"
   ]
  },
  {
   "cell_type": "code",
   "execution_count": null,
   "id": "df793514-f9ca-4173-8e7f-8fe333b1f85d",
   "metadata": {},
   "outputs": [],
   "source": []
  },
  {
   "cell_type": "code",
   "execution_count": null,
   "id": "a19daf8f-54cc-460b-afe6-fc3e0170048c",
   "metadata": {},
   "outputs": [],
   "source": [
    "for i in range(len(final_df)):\n",
    "    if  \"seguidores\" in final_df[\"following_fb\"].iloc[i]:\n",
    "        if \"mil\" in final_df[\"following_fb\"].iloc[i]:\n",
    "            final_df[\"following_fb\"].iloc[i] = float(final_df[\"following_fb\"].iloc[i].replace(\"\\xa0mil\",\"\").replace(\" seguidores\",\"\").replace(\",\",\".\").replace(\"\\xa0M\",\"\"))*1000\n",
    "\n",
    "        else:\n",
    "            final_df[\"following_fb\"].iloc[i] = float(final_df[\"following_fb\"].iloc[i].replace(\" seguidores\",\"\").replace(\",\",\".\"))\n",
    "\n",
    "    else : \n",
    "        continue"
   ]
  },
  {
   "cell_type": "code",
   "execution_count": null,
   "id": "2c50f672-dd59-4572-a808-105d5d73964d",
   "metadata": {},
   "outputs": [],
   "source": [
    "final_df[\"following_fb\"]"
   ]
  },
  {
   "cell_type": "code",
   "execution_count": null,
   "id": "87528456-16d4-47b7-8385-4561450c8252",
   "metadata": {},
   "outputs": [],
   "source": [
    "final_df.to_excel(r\"C:\\Users\\crocs\\OneDrive - Universidade de Lisboa\\Ambiente de Trabalho\\Gonçalo\\College&Courses\\Data Analytics- IronHack\\Course Data Analytics\\Projects\\FinalProject\\Mycode\\database\\last\\clean_following_fb.xlsx\")"
   ]
  },
  {
   "cell_type": "code",
   "execution_count": 132,
   "id": "c9336599-3936-4e19-a56e-b84a653493a5",
   "metadata": {},
   "outputs": [
    {
     "data": {
      "text/html": [
       "<div>\n",
       "<style scoped>\n",
       "    .dataframe tbody tr th:only-of-type {\n",
       "        vertical-align: middle;\n",
       "    }\n",
       "\n",
       "    .dataframe tbody tr th {\n",
       "        vertical-align: top;\n",
       "    }\n",
       "\n",
       "    .dataframe thead th {\n",
       "        text-align: right;\n",
       "    }\n",
       "</style>\n",
       "<table border=\"1\" class=\"dataframe\">\n",
       "  <thead>\n",
       "    <tr style=\"text-align: right;\">\n",
       "      <th></th>\n",
       "      <th>Unnamed: 0</th>\n",
       "      <th>Unnamed: 0.1</th>\n",
       "      <th>Unnamed: 0.1.1</th>\n",
       "      <th>Unnamed: 0.1.1.1</th>\n",
       "      <th>Name</th>\n",
       "      <th>place_id</th>\n",
       "      <th>types</th>\n",
       "      <th>International Phone Number</th>\n",
       "      <th>Website</th>\n",
       "      <th>rating</th>\n",
       "      <th>...</th>\n",
       "      <th>email</th>\n",
       "      <th>following_fb</th>\n",
       "      <th>website_fb</th>\n",
       "      <th>company_phone_num</th>\n",
       "      <th>extra_column</th>\n",
       "      <th>num_workers</th>\n",
       "      <th>sales_vol</th>\n",
       "      <th>starting_year</th>\n",
       "      <th>got_website</th>\n",
       "      <th>got_fb</th>\n",
       "    </tr>\n",
       "  </thead>\n",
       "  <tbody>\n",
       "    <tr>\n",
       "      <th>0</th>\n",
       "      <td>0</td>\n",
       "      <td>0</td>\n",
       "      <td>0</td>\n",
       "      <td>0</td>\n",
       "      <td>Farmácia Jardim Real</td>\n",
       "      <td>ChIJwbPYEX8zGQ0RC_iC7UbGlic</td>\n",
       "      <td>['pharmacy', 'health', 'point_of_interest', 's...</td>\n",
       "      <td>+351 21 324 0419</td>\n",
       "      <td>http://www.farmaciasprogresso.pt/</td>\n",
       "      <td>3.4</td>\n",
       "      <td>...</td>\n",
       "      <td>0</td>\n",
       "      <td>0</td>\n",
       "      <td>0</td>\n",
       "      <td>+351-213425455</td>\n",
       "      <td>+351-213425455_5_$701,711_2005</td>\n",
       "      <td>5</td>\n",
       "      <td>701711</td>\n",
       "      <td>2005</td>\n",
       "      <td>1</td>\n",
       "      <td>0</td>\n",
       "    </tr>\n",
       "    <tr>\n",
       "      <th>1</th>\n",
       "      <td>1</td>\n",
       "      <td>1</td>\n",
       "      <td>1</td>\n",
       "      <td>1</td>\n",
       "      <td>Farmácia Estácio</td>\n",
       "      <td>ChIJA5SkTYczGQ0Renry3iasSVo</td>\n",
       "      <td>['pharmacy', 'health', 'point_of_interest', 's...</td>\n",
       "      <td>+351 21 322 5540</td>\n",
       "      <td>https://www.farmaciaestacio.pt/</td>\n",
       "      <td>4.4</td>\n",
       "      <td>...</td>\n",
       "      <td>farmacia.estacio.xabregas@gmail.com</td>\n",
       "      <td>1300</td>\n",
       "      <td>0</td>\n",
       "      <td>16</td>\n",
       "      <td>16_$2.52 million_1883_</td>\n",
       "      <td>16</td>\n",
       "      <td>2520000</td>\n",
       "      <td>2007</td>\n",
       "      <td>1</td>\n",
       "      <td>1</td>\n",
       "    </tr>\n",
       "    <tr>\n",
       "      <th>2</th>\n",
       "      <td>2</td>\n",
       "      <td>2</td>\n",
       "      <td>2</td>\n",
       "      <td>2</td>\n",
       "      <td>Farmácia São Mamede</td>\n",
       "      <td>ChIJVekf7nszGQ0Rg_O1j-3rSsw</td>\n",
       "      <td>['pharmacy', 'health', 'point_of_interest', 's...</td>\n",
       "      <td>NaN</td>\n",
       "      <td>http://www.f-saomamede.pt/</td>\n",
       "      <td>3.9</td>\n",
       "      <td>...</td>\n",
       "      <td>farmacia.saomamede@farmaciasgap.pt</td>\n",
       "      <td>608</td>\n",
       "      <td>http://www.farmaciasgap.pt</td>\n",
       "      <td></td>\n",
       "      <td>_ _ _</td>\n",
       "      <td>11</td>\n",
       "      <td>2120990</td>\n",
       "      <td>2017</td>\n",
       "      <td>1</td>\n",
       "      <td>1</td>\n",
       "    </tr>\n",
       "    <tr>\n",
       "      <th>3</th>\n",
       "      <td>3</td>\n",
       "      <td>3</td>\n",
       "      <td>3</td>\n",
       "      <td>3</td>\n",
       "      <td>Farmácia Azevedos</td>\n",
       "      <td>ChIJceUyRoczGQ0RfSx4xOxqFWA</td>\n",
       "      <td>['pharmacy', 'health', 'point_of_interest', 's...</td>\n",
       "      <td>+351 21 340 1210</td>\n",
       "      <td>https://www.facebook.com/FarmaciaAzevedoEFilho...</td>\n",
       "      <td>3.9</td>\n",
       "      <td>...</td>\n",
       "      <td>farmaciaazevedos@gmail.com</td>\n",
       "      <td>11000</td>\n",
       "      <td>0</td>\n",
       "      <td></td>\n",
       "      <td>_ _ _</td>\n",
       "      <td>11</td>\n",
       "      <td>2120990</td>\n",
       "      <td>2009</td>\n",
       "      <td>0</td>\n",
       "      <td>1</td>\n",
       "    </tr>\n",
       "    <tr>\n",
       "      <th>4</th>\n",
       "      <td>4</td>\n",
       "      <td>4</td>\n",
       "      <td>4</td>\n",
       "      <td>4</td>\n",
       "      <td>Pharmácia Teixeira Lopes</td>\n",
       "      <td>ChIJ674wHnk0GQ0RsiY6yqS7slg</td>\n",
       "      <td>['pharmacy', 'health', 'point_of_interest', 's...</td>\n",
       "      <td>+351 21 342 4816</td>\n",
       "      <td>0</td>\n",
       "      <td>4.5</td>\n",
       "      <td>...</td>\n",
       "      <td>musical.pharmacia@gmail.com</td>\n",
       "      <td>4419</td>\n",
       "      <td>0</td>\n",
       "      <td>+351-243759368</td>\n",
       "      <td>+351-243759368_4_$654,198_2013</td>\n",
       "      <td>4</td>\n",
       "      <td>654198</td>\n",
       "      <td>2018</td>\n",
       "      <td>0</td>\n",
       "      <td>1</td>\n",
       "    </tr>\n",
       "  </tbody>\n",
       "</table>\n",
       "<p>5 rows × 28 columns</p>\n",
       "</div>"
      ],
      "text/plain": [
       "   Unnamed: 0  Unnamed: 0.1  Unnamed: 0.1.1  Unnamed: 0.1.1.1  \\\n",
       "0           0             0               0                 0   \n",
       "1           1             1               1                 1   \n",
       "2           2             2               2                 2   \n",
       "3           3             3               3                 3   \n",
       "4           4             4               4                 4   \n",
       "\n",
       "                       Name                     place_id  \\\n",
       "0     Farmácia Jardim Real   ChIJwbPYEX8zGQ0RC_iC7UbGlic   \n",
       "1          Farmácia Estácio  ChIJA5SkTYczGQ0Renry3iasSVo   \n",
       "2       Farmácia São Mamede  ChIJVekf7nszGQ0Rg_O1j-3rSsw   \n",
       "3         Farmácia Azevedos  ChIJceUyRoczGQ0RfSx4xOxqFWA   \n",
       "4  Pharmácia Teixeira Lopes  ChIJ674wHnk0GQ0RsiY6yqS7slg   \n",
       "\n",
       "                                               types  \\\n",
       "0  ['pharmacy', 'health', 'point_of_interest', 's...   \n",
       "1  ['pharmacy', 'health', 'point_of_interest', 's...   \n",
       "2  ['pharmacy', 'health', 'point_of_interest', 's...   \n",
       "3  ['pharmacy', 'health', 'point_of_interest', 's...   \n",
       "4  ['pharmacy', 'health', 'point_of_interest', 's...   \n",
       "\n",
       "  International Phone Number  \\\n",
       "0           +351 21 324 0419   \n",
       "1           +351 21 322 5540   \n",
       "2                        NaN   \n",
       "3           +351 21 340 1210   \n",
       "4           +351 21 342 4816   \n",
       "\n",
       "                                             Website  rating  ...  \\\n",
       "0                  http://www.farmaciasprogresso.pt/     3.4  ...   \n",
       "1                    https://www.farmaciaestacio.pt/     4.4  ...   \n",
       "2                         http://www.f-saomamede.pt/     3.9  ...   \n",
       "3  https://www.facebook.com/FarmaciaAzevedoEFilho...     3.9  ...   \n",
       "4                                                  0     4.5  ...   \n",
       "\n",
       "                                 email following_fb  \\\n",
       "0                                    0            0   \n",
       "1  farmacia.estacio.xabregas@gmail.com         1300   \n",
       "2   farmacia.saomamede@farmaciasgap.pt          608   \n",
       "3           farmaciaazevedos@gmail.com        11000   \n",
       "4          musical.pharmacia@gmail.com         4419   \n",
       "\n",
       "                   website_fb  company_phone_num  \\\n",
       "0                           0     +351-213425455   \n",
       "1                           0                 16   \n",
       "2  http://www.farmaciasgap.pt                      \n",
       "3                           0                      \n",
       "4                           0     +351-243759368   \n",
       "\n",
       "                     extra_column num_workers sales_vol  starting_year  \\\n",
       "0  +351-213425455_5_$701,711_2005           5    701711           2005   \n",
       "1         16_$2.52 million_1883_           16   2520000           2007   \n",
       "2                          _ _ _           11   2120990           2017   \n",
       "3                          _ _ _           11   2120990           2009   \n",
       "4  +351-243759368_4_$654,198_2013           4    654198           2018   \n",
       "\n",
       "  got_website  got_fb  \n",
       "0           1       0  \n",
       "1           1       1  \n",
       "2           1       1  \n",
       "3           0       1  \n",
       "4           0       1  \n",
       "\n",
       "[5 rows x 28 columns]"
      ]
     },
     "execution_count": 132,
     "metadata": {},
     "output_type": "execute_result"
    }
   ],
   "source": [
    "#### START FROM HERE::\n",
    "\n",
    "\n",
    "final_df = pd.read_excel(r\"C:\\Users\\crocs\\OneDrive - Universidade de Lisboa\\Ambiente de Trabalho\\Gonçalo\\College&Courses\\Data Analytics- IronHack\\Course Data Analytics\\Projects\\FinalProject\\Mycode\\database\\last\\clean_following_fb.xlsx\")\n",
    "final_df.head(5)"
   ]
  },
  {
   "cell_type": "code",
   "execution_count": 4,
   "id": "a3a6a4e4-e6b2-4259-9848-e0e0bd141d59",
   "metadata": {},
   "outputs": [],
   "source": [
    "final_df[\"ano_fundacao\"]= final_df[\"ano_fundacao\"].fillna(\"20-05-2018\")\n",
    "final_df[\"ano_fundacao\"] =pd.to_datetime(final_df[\"ano_fundacao\"],errors='raise', dayfirst=True)\n",
    "final_df[\"starting_year\"] = final_df[\"ano_fundacao\"].dt.year"
   ]
  },
  {
   "cell_type": "code",
   "execution_count": 5,
   "id": "e7dea42a-b365-4c1b-b549-ff949259592a",
   "metadata": {},
   "outputs": [
    {
     "data": {
      "text/plain": [
       "0      2005\n",
       "1      2007\n",
       "2      2017\n",
       "3      2009\n",
       "4      2018\n",
       "       ... \n",
       "263    2021\n",
       "264    2018\n",
       "265    2009\n",
       "266    2008\n",
       "267    2007\n",
       "Name: starting_year, Length: 268, dtype: int64"
      ]
     },
     "execution_count": 5,
     "metadata": {},
     "output_type": "execute_result"
    }
   ],
   "source": [
    "final_df[\"starting_year\"]"
   ]
  },
  {
   "cell_type": "code",
   "execution_count": 6,
   "id": "6b4b08af-23c6-4704-bb94-21192a89afc5",
   "metadata": {},
   "outputs": [],
   "source": [
    "#Columns to get to the Algorithm:\n",
    "\n",
    "    #Rating , user_rating_total , got_website ,got facebook , following_fb , num_workers , sales_vol, starting year"
   ]
  },
  {
   "cell_type": "code",
   "execution_count": 7,
   "id": "86b06c69-571c-4750-9263-4aae8ce41fab",
   "metadata": {},
   "outputs": [],
   "source": [
    "#Column rating as type float:\n",
    "\n",
    "final_df[\"rating\"] = final_df[\"rating\"].astype(float)"
   ]
  },
  {
   "cell_type": "code",
   "execution_count": 8,
   "id": "e82ad4b9-ce12-4d1f-adaa-779002ff734b",
   "metadata": {},
   "outputs": [],
   "source": [
    "#Column user_ratings_total as type int:\n",
    "\n",
    "final_df[\"user_ratings_total\"] = final_df[\"user_ratings_total\"].astype(int)"
   ]
  },
  {
   "cell_type": "code",
   "execution_count": 9,
   "id": "10e90665-13ed-491d-a419-2cba7af18aa9",
   "metadata": {},
   "outputs": [
    {
     "name": "stderr",
     "output_type": "stream",
     "text": [
      "<ipython-input-9-069f2d94f848>:7: DeprecationWarning: The truth value of an empty array is ambiguous. Returning False, but in future this will result in an error. Use `array.size > 0` to check that an array is not empty.\n",
      "  if final_df[\"following_fb\"].iloc[i] == []:\n"
     ]
    },
    {
     "data": {
      "text/plain": [
       "0      0\n",
       "1      1\n",
       "2      1\n",
       "3      1\n",
       "4      1\n",
       "      ..\n",
       "263    1\n",
       "264    0\n",
       "265    1\n",
       "266    1\n",
       "267    1\n",
       "Name: got_fb, Length: 268, dtype: int32"
      ]
     },
     "execution_count": 9,
     "metadata": {},
     "output_type": "execute_result"
    }
   ],
   "source": [
    "#Column Got facebook:\n",
    "\n",
    "    #We have to fill the nan's with 0, and for the rows that don't have 0 we create another column that has an entry = 1 , so we only have 0 or \n",
    "final_df[\"following_fb\"] = final_df[\"following_fb\"].fillna(0) \n",
    "final_df[\"got_fb\"] = np.nan\n",
    "for i in range(len(final_df)):\n",
    "    if final_df[\"following_fb\"].iloc[i] == []:\n",
    "        final_df[\"following_fb\"].iloc[i] = 0\n",
    "        final_df[\"got_fb\"].iloc[i] = 0\n",
    "    elif final_df[\"following_fb\"].iloc[i] == \"[]\":\n",
    "        final_df[\"got_fb\"].iloc[i] = 0    \n",
    "    elif final_df[\"following_fb\"].iloc[i] == \"0\":\n",
    "        final_df[\"got_fb\"].iloc[i] = 0\n",
    "    elif final_df[\"following_fb\"].iloc[i] == 0:\n",
    "        final_df[\"got_fb\"].iloc[i] = 0\n",
    "    else : \n",
    "        final_df[\"got_fb\"].iloc[i] = 1\n",
    "final_df[\"following_fb\"]\n",
    "final_df[\"got_fb\"] = final_df[\"got_fb\"].astype(int)\n",
    "final_df[\"got_fb\"]\n",
    "\n"
   ]
  },
  {
   "cell_type": "code",
   "execution_count": 22,
   "id": "23e0e53e-679d-444a-b27a-e30230927407",
   "metadata": {},
   "outputs": [],
   "source": [
    "#Column Got Website:\n",
    "\n",
    "    #We have to fill the nan's with 0, and for the rows that don't have 0 we create another column that has an entry = 1 , so we only have 0 or 1\n",
    "    \n",
    "final_df[\"Website\"] = final_df[\"Website\"].fillna(0) \n",
    "final_df[\"got_website\"] = np.nan\n",
    "for i in range(len(final_df)):\n",
    "    if final_df[\"Website\"].iloc[i] == 0:\n",
    "        final_df[\"got_website\"].iloc[i] = 0\n",
    "        \n",
    "    elif \"https://www.farmaciasportuguesas\" in final_df[\"Website\"].iloc[i]:\n",
    "        final_df[\"got_website\"].iloc[i] = 0\n",
    "    elif \"https://www.facebook\" in final_df[\"Website\"].iloc[i]:\n",
    "        final_df[\"got_website\"].iloc[i] = 0\n",
    "    else : \n",
    "        final_df[\"got_website\"].iloc[i] = 1\n",
    "final_df[\"got_website\"] =final_df[\"got_website\"].astype(int)"
   ]
  },
  {
   "cell_type": "code",
   "execution_count": null,
   "id": "81a59783-cf61-4a99-9998-23677a39e886",
   "metadata": {},
   "outputs": [],
   "source": []
  },
  {
   "cell_type": "code",
   "execution_count": 23,
   "id": "5c1fccb6-d2fd-4586-b2b0-26bca837dab8",
   "metadata": {},
   "outputs": [
    {
     "data": {
      "text/plain": [
       "0          0\n",
       "1       1300\n",
       "2        608\n",
       "3      11000\n",
       "4       4419\n",
       "       ...  \n",
       "263     1644\n",
       "264        0\n",
       "265     5596\n",
       "266      726\n",
       "267      946\n",
       "Name: following_fb, Length: 268, dtype: int32"
      ]
     },
     "execution_count": 23,
     "metadata": {},
     "output_type": "execute_result"
    }
   ],
   "source": [
    "#Column following_fb. Check and change the type:\n",
    "\n",
    "\n",
    "for i in range(len(final_df)):\n",
    "    if final_df[\"following_fb\"].iloc[i] == \"[]\":\n",
    "        final_df[\"following_fb\"].iloc[i] = 0\n",
    "\n",
    "    else : \n",
    "        final_df[\"following_fb\"].iloc[i] = final_df[\"following_fb\"].iloc[i] \n",
    "\n",
    "final_df[\"following_fb\"] =  final_df[\"following_fb\"].astype(int)\n",
    "final_df[\"following_fb\"]"
   ]
  },
  {
   "cell_type": "code",
   "execution_count": 24,
   "id": "93d83c1d-35af-4093-9d32-48882c427608",
   "metadata": {},
   "outputs": [
    {
     "data": {
      "text/plain": [
       "0       5\n",
       "1      16\n",
       "2      11\n",
       "3      11\n",
       "4       4\n",
       "       ..\n",
       "263    11\n",
       "264    11\n",
       "265    11\n",
       "266    11\n",
       "267    11\n",
       "Name: num_workers, Length: 268, dtype: int32"
      ]
     },
     "execution_count": 24,
     "metadata": {},
     "output_type": "execute_result"
    }
   ],
   "source": [
    "#Column num_workers. Check and change the types. Atribute number workers by understandng the mean \n",
    "\n",
    "final_df[\"num_workers\"] =  final_df[\"num_workers\"].astype(int)\n",
    "\n",
    "for i in   range(len(final_df)):\n",
    "    if final_df[\"num_workers\"].iloc[i] == 0:\n",
    "        final_df[\"num_workers\"].iloc[i] = round(final_df[(final_df[\"num_workers\"]> 0) & (final_df[\"num_workers\"]< 20)][\"num_workers\"].mean())\n",
    "        \n",
    "    else: \n",
    "        continue\n",
    "\n",
    "final_df[\"num_workers\"]"
   ]
  },
  {
   "cell_type": "code",
   "execution_count": 25,
   "id": "e1157a2a-7712-4217-99ee-2b2feaef2c1c",
   "metadata": {},
   "outputs": [
    {
     "data": {
      "text/plain": [
       "0       701711\n",
       "1      2520000\n",
       "2      2120990\n",
       "3      2120990\n",
       "4       654198\n",
       "        ...   \n",
       "263    2120990\n",
       "264    2120990\n",
       "265    2120990\n",
       "266    2120990\n",
       "267    2120990\n",
       "Name: sales_vol, Length: 268, dtype: int32"
      ]
     },
     "execution_count": 25,
     "metadata": {},
     "output_type": "execute_result"
    }
   ],
   "source": [
    "#Column sales_vol. Check and change the type:\n",
    "\n",
    "final_df[\"sales_vol\"] =  final_df[\"sales_vol\"].astype(int)\n",
    "\n",
    "\n",
    "\n",
    "for i in   range(len(final_df)):\n",
    "    if final_df[\"sales_vol\"].iloc[i] == 0:\n",
    "        final_df[\"sales_vol\"].iloc[i] = round(final_df[(final_df[\"sales_vol\"]> 0) & (final_df[\"sales_vol\"]< 8000000)][\"sales_vol\"].mean())\n",
    "        \n",
    "    else: \n",
    "        continue\n",
    "\n",
    "final_df[\"sales_vol\"]"
   ]
  },
  {
   "cell_type": "code",
   "execution_count": 128,
   "id": "58db89b2-9459-4d1f-a2f4-65b5a808881d",
   "metadata": {},
   "outputs": [],
   "source": [
    "final_df.to_excel(r\"C:\\Users\\crocs\\OneDrive - Universidade de Lisboa\\Ambiente de Trabalho\\Gonçalo\\College&Courses\\Data Analytics- IronHack\\Course Data Analytics\\Projects\\FinalProject\\Mycode\\database\\last\\clean_following_fb.xlsx\")"
   ]
  },
  {
   "cell_type": "code",
   "execution_count": 26,
   "id": "8ce2a264-0a79-4fc3-8e0c-6030057b8221",
   "metadata": {},
   "outputs": [
    {
     "data": {
      "text/html": [
       "<div>\n",
       "<style scoped>\n",
       "    .dataframe tbody tr th:only-of-type {\n",
       "        vertical-align: middle;\n",
       "    }\n",
       "\n",
       "    .dataframe tbody tr th {\n",
       "        vertical-align: top;\n",
       "    }\n",
       "\n",
       "    .dataframe thead th {\n",
       "        text-align: right;\n",
       "    }\n",
       "</style>\n",
       "<table border=\"1\" class=\"dataframe\">\n",
       "  <thead>\n",
       "    <tr style=\"text-align: right;\">\n",
       "      <th></th>\n",
       "      <th>Name</th>\n",
       "      <th>rating</th>\n",
       "      <th>user_ratings_total</th>\n",
       "      <th>got_website</th>\n",
       "      <th>got_fb</th>\n",
       "      <th>following_fb</th>\n",
       "      <th>num_workers</th>\n",
       "      <th>sales_vol</th>\n",
       "      <th>starting_year</th>\n",
       "    </tr>\n",
       "  </thead>\n",
       "  <tbody>\n",
       "    <tr>\n",
       "      <th>0</th>\n",
       "      <td>Farmácia Jardim Real</td>\n",
       "      <td>3.4</td>\n",
       "      <td>15</td>\n",
       "      <td>1</td>\n",
       "      <td>0</td>\n",
       "      <td>0</td>\n",
       "      <td>5</td>\n",
       "      <td>701711</td>\n",
       "      <td>2005</td>\n",
       "    </tr>\n",
       "    <tr>\n",
       "      <th>1</th>\n",
       "      <td>Farmácia Estácio</td>\n",
       "      <td>4.4</td>\n",
       "      <td>34</td>\n",
       "      <td>1</td>\n",
       "      <td>1</td>\n",
       "      <td>1300</td>\n",
       "      <td>16</td>\n",
       "      <td>2520000</td>\n",
       "      <td>2007</td>\n",
       "    </tr>\n",
       "    <tr>\n",
       "      <th>2</th>\n",
       "      <td>Farmácia São Mamede</td>\n",
       "      <td>3.9</td>\n",
       "      <td>45</td>\n",
       "      <td>1</td>\n",
       "      <td>1</td>\n",
       "      <td>608</td>\n",
       "      <td>11</td>\n",
       "      <td>2120990</td>\n",
       "      <td>2017</td>\n",
       "    </tr>\n",
       "    <tr>\n",
       "      <th>3</th>\n",
       "      <td>Farmácia Azevedos</td>\n",
       "      <td>3.9</td>\n",
       "      <td>41</td>\n",
       "      <td>0</td>\n",
       "      <td>1</td>\n",
       "      <td>11000</td>\n",
       "      <td>11</td>\n",
       "      <td>2120990</td>\n",
       "      <td>2009</td>\n",
       "    </tr>\n",
       "    <tr>\n",
       "      <th>4</th>\n",
       "      <td>Pharmácia Teixeira Lopes</td>\n",
       "      <td>4.5</td>\n",
       "      <td>14</td>\n",
       "      <td>0</td>\n",
       "      <td>1</td>\n",
       "      <td>4419</td>\n",
       "      <td>4</td>\n",
       "      <td>654198</td>\n",
       "      <td>2018</td>\n",
       "    </tr>\n",
       "  </tbody>\n",
       "</table>\n",
       "</div>"
      ],
      "text/plain": [
       "                       Name  rating  user_ratings_total  got_website  got_fb  \\\n",
       "0     Farmácia Jardim Real      3.4                  15            1       0   \n",
       "1          Farmácia Estácio     4.4                  34            1       1   \n",
       "2       Farmácia São Mamede     3.9                  45            1       1   \n",
       "3         Farmácia Azevedos     3.9                  41            0       1   \n",
       "4  Pharmácia Teixeira Lopes     4.5                  14            0       1   \n",
       "\n",
       "   following_fb  num_workers  sales_vol  starting_year  \n",
       "0             0            5     701711           2005  \n",
       "1          1300           16    2520000           2007  \n",
       "2           608           11    2120990           2017  \n",
       "3         11000           11    2120990           2009  \n",
       "4          4419            4     654198           2018  "
      ]
     },
     "execution_count": 26,
     "metadata": {},
     "output_type": "execute_result"
    }
   ],
   "source": [
    "##Now its time to create our classification algorithm:\n",
    "\n",
    "    ##1st, we create a dataframe with only the columns we want\n",
    "    \n",
    "classification_df = final_df[[\"Name\",\"rating\",\"user_ratings_total\",\"got_website\",\"got_fb\",\"following_fb\",\"num_workers\",\"sales_vol\",\"starting_year\"]]\n",
    "classification_df.head(5)"
   ]
  },
  {
   "cell_type": "code",
   "execution_count": 53,
   "id": "46b87de6-6e1d-4f1d-b9a2-54bd91905526",
   "metadata": {},
   "outputs": [
    {
     "name": "stdout",
     "output_type": "stream",
     "text": [
      "[166, 117, 188, 210, 157, 114, 125, 119, 242, 47, 196, 139, 138, 82, 105, 180, 100, 27, 93, 21, 178, 134, 38, 56, 113, 126, 183, 150, 216, 32, 188, 48, 74, 177, 255, 33, 97, 160, 153, 160, 266, 111, 244, 168, 139, 188, 238, 253, 36, 213, 254, 113, 20, 214, 259, 246, 132, 266, 168, 103, 254, 146, 263, 238, 254, 78, 220, 51, 3, 235, 226, 158, 56, 248, 9, 118, 179, 18, 71, 143, 5, 173, 49, 166, 22, 91, 266, 104, 205, 234, 96, 113, 130, 199, 260, 179, 162, 247, 222, 108]\n"
     ]
    }
   ],
   "source": [
    "List = [i for i in range(len(classification_df))]\n",
    "classification_df[\"interested\"]= 0\n",
    "# using the choices() method on a\n",
    "# sequence of numbers\n",
    "UpdatedList = random.choices(List, k = 100)\n",
    "print(UpdatedList)\n",
    "\n",
    "for number in UpdatedList:\n",
    "    classification_df[\"interested\"].iloc[number] = 1\n",
    "    \n"
   ]
  },
  {
   "cell_type": "code",
   "execution_count": 130,
   "id": "d3d4dd67-18c9-4e8b-b7e2-880ae1502728",
   "metadata": {},
   "outputs": [],
   "source": [
    "classification_df.to_excel(r\"C:\\Users\\crocs\\OneDrive - Universidade de Lisboa\\Ambiente de Trabalho\\Gonçalo\\College&Courses\\Data Analytics- IronHack\\Course Data Analytics\\Projects\\FinalProject\\Mycode\\database\\last\\classification_df.xlsx\", index=False)"
   ]
  },
  {
   "cell_type": "code",
   "execution_count": 55,
   "id": "94bed5bd-cc26-4a03-940d-2d23756f79df",
   "metadata": {},
   "outputs": [],
   "source": [
    "from sklearn.model_selection import train_test_split\n",
    "features = pd.DataFrame(classification_df, columns = [\"rating\",\"user_ratings_total\",\"got_website\",\"got_website\",\"got_fb\",\"following_fb\",\"num_workers\",\"sales_vol\"])\n",
    "labels = pd.DataFrame(classification_df, columns = [\"interested\"])\n",
    "\n",
    "X_train , X_test , y_train , y_test = train_test_split(features, labels , random_state = 0)\n",
    "\n"
   ]
  },
  {
   "cell_type": "code",
   "execution_count": 120,
   "id": "ce197818-64de-47ba-8879-cf71d8da79be",
   "metadata": {},
   "outputs": [
    {
     "name": "stderr",
     "output_type": "stream",
     "text": [
      "C:\\Users\\crocs\\anaconda3\\lib\\site-packages\\sklearn\\utils\\validation.py:760: DataConversionWarning: A column-vector y was passed when a 1d array was expected. Please change the shape of y to (n_samples, ), for example using ravel().\n",
      "  y = column_or_1d(y, warn=True)\n"
     ]
    },
    {
     "data": {
      "text/plain": [
       "LogisticRegression(C=1.0, class_weight=None, dual=False, fit_intercept=True,\n",
       "                   intercept_scaling=1, l1_ratio=None, max_iter=100,\n",
       "                   multi_class='auto', n_jobs=None, penalty='l2',\n",
       "                   random_state=None, solver='lbfgs', tol=0.0001, verbose=0,\n",
       "                   warm_start=False)"
      ]
     },
     "execution_count": 120,
     "metadata": {},
     "output_type": "execute_result"
    }
   ],
   "source": [
    "##Check the model with KNN Regression:\n",
    "\n",
    "from sklearn.neighbors import KNeighborsClassifier\n",
    "from sklearn.linear_model import LogisticRegression\n",
    "from sklearn.svm import LinearSVC\n",
    "from sklearn.tree import DecisionTreeClassifier\n",
    "\n",
    "#model = KNeighborsClassifier(n_neighbors = 3)\n",
    "model = LogisticRegression()\n",
    "# model = LinearSVC()\n",
    "\n",
    "\n",
    "#Train the model:\n",
    "\n",
    "model.fit(X_train, y_train)"
   ]
  },
  {
   "cell_type": "code",
   "execution_count": 121,
   "id": "fddf9688-c9b3-474d-bb1c-1f4e2432c55c",
   "metadata": {},
   "outputs": [
    {
     "name": "stdout",
     "output_type": "stream",
     "text": [
      "Test data accuracy was  0.6119402985074627\n",
      "Train data accuracy was  0.6019900497512438\n"
     ]
    }
   ],
   "source": [
    "#Evaluate and see if we overfit by seeing the score:\n",
    "\n",
    "print(\"Test data accuracy was \",model.score(X_test, y_test))\n",
    "print(\"Train data accuracy was \",model.score(X_train, y_train))\n",
    "\n",
    "\n",
    "#This is a good model algorithm because our test accuracy is higher than the train accuracy"
   ]
  },
  {
   "cell_type": "code",
   "execution_count": 122,
   "id": "bfe03b4f-5359-4ce9-98e3-6d0778b02f01",
   "metadata": {},
   "outputs": [
    {
     "data": {
      "text/plain": [
       "array([0, 1, 0, 0, 0, 0, 0, 1, 0, 0, 0, 0, 1, 0, 0, 1, 0, 0, 1, 1, 0, 1,\n",
       "       1, 0, 0, 0, 1, 0, 0, 0, 0, 0, 0, 0, 0, 0, 1, 0, 0, 0, 0, 0, 1, 0,\n",
       "       0, 1, 0, 0, 1, 0, 0, 0, 0, 0, 0, 0, 0, 0, 0, 0, 0, 0, 1, 0, 0, 1,\n",
       "       0], dtype=int64)"
      ]
     },
     "execution_count": 122,
     "metadata": {},
     "output_type": "execute_result"
    }
   ],
   "source": [
    "model.predict(X_test)"
   ]
  },
  {
   "cell_type": "code",
   "execution_count": 123,
   "id": "8c89d1b6-5d32-452e-889a-89cedf6aea57",
   "metadata": {},
   "outputs": [
    {
     "data": {
      "text/html": [
       "<div>\n",
       "<style scoped>\n",
       "    .dataframe tbody tr th:only-of-type {\n",
       "        vertical-align: middle;\n",
       "    }\n",
       "\n",
       "    .dataframe tbody tr th {\n",
       "        vertical-align: top;\n",
       "    }\n",
       "\n",
       "    .dataframe thead th {\n",
       "        text-align: right;\n",
       "    }\n",
       "</style>\n",
       "<table border=\"1\" class=\"dataframe\">\n",
       "  <thead>\n",
       "    <tr style=\"text-align: right;\">\n",
       "      <th></th>\n",
       "      <th>interested</th>\n",
       "    </tr>\n",
       "  </thead>\n",
       "  <tbody>\n",
       "    <tr>\n",
       "      <th>90</th>\n",
       "      <td>0</td>\n",
       "    </tr>\n",
       "    <tr>\n",
       "      <th>260</th>\n",
       "      <td>1</td>\n",
       "    </tr>\n",
       "    <tr>\n",
       "      <th>76</th>\n",
       "      <td>0</td>\n",
       "    </tr>\n",
       "    <tr>\n",
       "      <th>83</th>\n",
       "      <td>0</td>\n",
       "    </tr>\n",
       "    <tr>\n",
       "      <th>176</th>\n",
       "      <td>0</td>\n",
       "    </tr>\n",
       "    <tr>\n",
       "      <th>...</th>\n",
       "      <td>...</td>\n",
       "    </tr>\n",
       "    <tr>\n",
       "      <th>92</th>\n",
       "      <td>0</td>\n",
       "    </tr>\n",
       "    <tr>\n",
       "      <th>248</th>\n",
       "      <td>1</td>\n",
       "    </tr>\n",
       "    <tr>\n",
       "      <th>196</th>\n",
       "      <td>1</td>\n",
       "    </tr>\n",
       "    <tr>\n",
       "      <th>238</th>\n",
       "      <td>1</td>\n",
       "    </tr>\n",
       "    <tr>\n",
       "      <th>199</th>\n",
       "      <td>1</td>\n",
       "    </tr>\n",
       "  </tbody>\n",
       "</table>\n",
       "<p>67 rows × 1 columns</p>\n",
       "</div>"
      ],
      "text/plain": [
       "     interested\n",
       "90            0\n",
       "260           1\n",
       "76            0\n",
       "83            0\n",
       "176           0\n",
       "..          ...\n",
       "92            0\n",
       "248           1\n",
       "196           1\n",
       "238           1\n",
       "199           1\n",
       "\n",
       "[67 rows x 1 columns]"
      ]
     },
     "execution_count": 123,
     "metadata": {},
     "output_type": "execute_result"
    }
   ],
   "source": [
    "y_test"
   ]
  },
  {
   "cell_type": "code",
   "execution_count": 125,
   "id": "a6b1ec8b-6579-4f13-abd7-8f75ae30c29e",
   "metadata": {},
   "outputs": [],
   "source": [
    "from sklearn.metrics import classification_report , confusion_matrix , precision_score \n"
   ]
  },
  {
   "cell_type": "code",
   "execution_count": 77,
   "id": "51ce42c7-b647-49c0-aaa1-b1ab45221210",
   "metadata": {},
   "outputs": [
    {
     "data": {
      "text/plain": [
       "array([[34,  8],\n",
       "       [18,  7]], dtype=int64)"
      ]
     },
     "execution_count": 77,
     "metadata": {},
     "output_type": "execute_result"
    }
   ],
   "source": [
    "confusion_matrix(y_test,model.predict(X_test))"
   ]
  },
  {
   "cell_type": "code",
   "execution_count": 126,
   "id": "4f9d1ed2-ab52-4b0f-96e4-1eb54fea2023",
   "metadata": {},
   "outputs": [
    {
     "name": "stdout",
     "output_type": "stream",
     "text": [
      "Test data accuracy was  0.6119402985074627\n",
      "Train data accuracy was  0.6019900497512438\n",
      "              precision    recall  f1-score   support\n",
      "\n",
      "           0       0.65      0.81      0.72        42\n",
      "           1       0.47      0.28      0.35        25\n",
      "\n",
      "    accuracy                           0.61        67\n",
      "   macro avg       0.56      0.54      0.54        67\n",
      "weighted avg       0.58      0.61      0.58        67\n",
      "\n"
     ]
    }
   ],
   "source": [
    "##The algorithm that has the best results is Logistic Regression:\n",
    "\n",
    "print(\"Test data accuracy was \",model.score(X_test, y_test))\n",
    "print(\"Train data accuracy was \",model.score(X_train, y_train))\n",
    "print(classification_report(y_test,model.predict(X_test)))"
   ]
  },
  {
   "cell_type": "code",
   "execution_count": 133,
   "id": "2597716b-f693-45a7-a9e3-06c79c0d21ec",
   "metadata": {},
   "outputs": [],
   "source": [
    "####CLustering to understand the different types fo companies to change different template formats:\n",
    "\n",
    "#K- Means:\n",
    "\n",
    "import numpy as np\n",
    "import matplotlib.pyplot as plt\n",
    "from sklearn import cluster, datasets\n",
    "from sklearn.preprocessing import StandardScaler\n",
    "import pandas as pd\n",
    "import seaborn as sns"
   ]
  },
  {
   "cell_type": "code",
   "execution_count": 148,
   "id": "c9b75263-60c0-4c1f-a2c2-38ce89fe0317",
   "metadata": {},
   "outputs": [
    {
     "data": {
      "image/png": "[encoded data removed]",
      "text/plain": [
       "<Figure size 360x360 with 1 Axes>"
      ]
     },
     "metadata": {
      "needs_background": "light"
     },
     "output_type": "display_data"
    }
   ],
   "source": [
    "classification_df = pd.read_excel(r\"C:\\Users\\crocs\\OneDrive - Universidade de Lisboa\\Ambiente de Trabalho\\Gonçalo\\College&Courses\\Data Analytics- IronHack\\Course Data Analytics\\Projects\\FinalProject\\Mycode\\database\\last\\classification_df.xlsx\")\n",
    "\n",
    "X = pd.DataFrame(classification_df, columns = [\"rating\",\"user_ratings_total\",\"got_website\",\"got_website\",\"got_fb\",\"following_fb\",\"num_workers\",\"sales_vol\"])\n",
    "y = pd.DataFrame(classification_df, columns = [\"interested\"])\n",
    "\n",
    "X = X.iloc[:,:-1].values\n",
    "y = y.iloc[:,-1].values\n",
    "\n",
    "\n",
    "kmeans = cluster.KMeans(n_clusters = 3)\n",
    "\n",
    "kmeans.fit(X)\n",
    "\n",
    "pred = kmeans.predict(X)\n",
    "\n",
    "plt.figure(figsize = (5,5))\n",
    "plt.scatter(X[:,0], X[:,1], c = pred , alpha = 0.5)\n",
    "plt.show()"
   ]
  },
  {
   "cell_type": "code",
   "execution_count": null,
   "id": "1eb1c883-0560-4007-83d2-bc11f2de5d5f",
   "metadata": {},
   "outputs": [],
   "source": []
  }
 ],
 "metadata": {
  "kernelspec": {
   "display_name": "Python 3",
   "language": "python",
   "name": "python3"
  },
  "language_info": {
   "codemirror_mode": {
    "name": "ipython",
    "version": 3
   },
   "file_extension": ".py",
   "mimetype": "text/x-python",
   "name": "python",
   "nbconvert_exporter": "python",
   "pygments_lexer": "ipython3",
   "version": "3.8.8"
  }
 },
 "nbformat": 4,
 "nbformat_minor": 5
}
