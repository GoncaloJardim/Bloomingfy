{
 "cells": [
  {
   "cell_type": "code",
   "execution_count": 25,
   "id": "eb1b0a56-bdb3-4c8a-9590-7a7ffbd38f4e",
   "metadata": {},
   "outputs": [
    {
     "name": "stdout",
     "output_type": "stream",
     "text": [
      "Pena, Arroios, Lisboa, Portugal\n",
      "(38.721249650000004, -9.139217826869645)\n"
     ]
    }
   ],
   "source": [
    "import pandas as pd\n",
    "import numpy as np\n",
    "\n",
    "##Get latitude and longitude of all freguesias of Lisbon:\n",
    "\n",
    "from geopy.geocoders import Nominatim\n",
    "geolocator = Nominatim(user_agent=\"crocs49\")\n",
    "location = geolocator.geocode(\"Pena,Lisboa \")\n",
    "print(location.address)\n",
    "print((location.latitude, location.longitude))\n",
    "\n"
   ]
  },
  {
   "cell_type": "code",
   "execution_count": 15,
   "id": "aa33dac0-320e-4c45-93ab-587bf69818d7",
   "metadata": {},
   "outputs": [
    {
     "data": {
      "text/plain": [
       "str"
      ]
     },
     "execution_count": 15,
     "metadata": {},
     "output_type": "execute_result"
    }
   ],
   "source": [
    "freguesias_df = pd.read_excel(r\"C:\\Users\\crocs\\OneDrive - Universidade de Lisboa\\Ambiente de Trabalho\\Gonçalo\\College&Courses\\Data Analytics- IronHack\\Course Data Analytics\\Projects\\FinalProject\\GoogleMaps_Places\\Freguesias.xlsx\")\n",
    "\n",
    "type(freguesias_df[\"Freguesia\"].iloc[0])"
   ]
  },
  {
   "cell_type": "code",
   "execution_count": 16,
   "id": "4800d97e-9714-4917-bdb3-32006a78c00b",
   "metadata": {},
   "outputs": [
    {
     "data": {
      "text/html": [
       "<div>\n",
       "<style scoped>\n",
       "    .dataframe tbody tr th:only-of-type {\n",
       "        vertical-align: middle;\n",
       "    }\n",
       "\n",
       "    .dataframe tbody tr th {\n",
       "        vertical-align: top;\n",
       "    }\n",
       "\n",
       "    .dataframe thead th {\n",
       "        text-align: right;\n",
       "    }\n",
       "</style>\n",
       "<table border=\"1\" class=\"dataframe\">\n",
       "  <thead>\n",
       "    <tr style=\"text-align: right;\">\n",
       "      <th></th>\n",
       "      <th>Freguesia</th>\n",
       "    </tr>\n",
       "  </thead>\n",
       "  <tbody>\n",
       "    <tr>\n",
       "      <th>0</th>\n",
       "      <td>Alcântara[nota 5] (2.º Bairro)</td>\n",
       "    </tr>\n",
       "    <tr>\n",
       "      <th>1</th>\n",
       "      <td>Alvalade[nota 7] (3.º Bairro)</td>\n",
       "    </tr>\n",
       "    <tr>\n",
       "      <th>2</th>\n",
       "      <td>Campo Grande[nota 8] (3.º Bairro)</td>\n",
       "    </tr>\n",
       "    <tr>\n",
       "      <th>3</th>\n",
       "      <td>São João de Brito[nota 9] (3.º Bairro)</td>\n",
       "    </tr>\n",
       "    <tr>\n",
       "      <th>4</th>\n",
       "      <td>Alto do Pina[nota 10] (4.º Bairro)</td>\n",
       "    </tr>\n",
       "  </tbody>\n",
       "</table>\n",
       "</div>"
      ],
      "text/plain": [
       "                                Freguesia\n",
       "0          Alcântara[nota 5] (2.º Bairro)\n",
       "1           Alvalade[nota 7] (3.º Bairro)\n",
       "2       Campo Grande[nota 8] (3.º Bairro)\n",
       "3  São João de Brito[nota 9] (3.º Bairro)\n",
       "4      Alto do Pina[nota 10] (4.º Bairro)"
      ]
     },
     "execution_count": 16,
     "metadata": {},
     "output_type": "execute_result"
    }
   ],
   "source": [
    "freguesias_df.head(5)"
   ]
  },
  {
   "cell_type": "code",
   "execution_count": 17,
   "id": "baecac12-b53e-4838-8a6c-2399232703fd",
   "metadata": {},
   "outputs": [
    {
     "data": {
      "text/html": [
       "<div>\n",
       "<style scoped>\n",
       "    .dataframe tbody tr th:only-of-type {\n",
       "        vertical-align: middle;\n",
       "    }\n",
       "\n",
       "    .dataframe tbody tr th {\n",
       "        vertical-align: top;\n",
       "    }\n",
       "\n",
       "    .dataframe thead th {\n",
       "        text-align: right;\n",
       "    }\n",
       "</style>\n",
       "<table border=\"1\" class=\"dataframe\">\n",
       "  <thead>\n",
       "    <tr style=\"text-align: right;\">\n",
       "      <th></th>\n",
       "      <th>Freguesia</th>\n",
       "    </tr>\n",
       "  </thead>\n",
       "  <tbody>\n",
       "    <tr>\n",
       "      <th>0</th>\n",
       "      <td>[Alcântara[,  5] (2.º Bairro)]</td>\n",
       "    </tr>\n",
       "    <tr>\n",
       "      <th>1</th>\n",
       "      <td>[Alvalade[,  7] (3.º Bairro)]</td>\n",
       "    </tr>\n",
       "    <tr>\n",
       "      <th>2</th>\n",
       "      <td>[Campo Grande[,  8] (3.º Bairro)]</td>\n",
       "    </tr>\n",
       "    <tr>\n",
       "      <th>3</th>\n",
       "      <td>[São João de Brito[,  9] (3.º Bairro)]</td>\n",
       "    </tr>\n",
       "    <tr>\n",
       "      <th>4</th>\n",
       "      <td>[Alto do Pina[,  10] (4.º Bairro)]</td>\n",
       "    </tr>\n",
       "  </tbody>\n",
       "</table>\n",
       "</div>"
      ],
      "text/plain": [
       "                                Freguesia\n",
       "0          [Alcântara[,  5] (2.º Bairro)]\n",
       "1           [Alvalade[,  7] (3.º Bairro)]\n",
       "2       [Campo Grande[,  8] (3.º Bairro)]\n",
       "3  [São João de Brito[,  9] (3.º Bairro)]\n",
       "4      [Alto do Pina[,  10] (4.º Bairro)]"
      ]
     },
     "execution_count": 17,
     "metadata": {},
     "output_type": "execute_result"
    }
   ],
   "source": [
    "#Treating beginning of dataframe:\n",
    "for i in range(len(freguesias_df)):\n",
    "    freguesias_df[\"Freguesia\"].iloc[i] = freguesias_df[\"Freguesia\"].iloc[i].split(\"nota\")\n",
    "    \n",
    "for i in range(len(freguesias_df)):\n",
    "    freguesias_df[\"Freguesia\"].iloc[i] = freguesias_df[\"Freguesia\"].iloc[i][0].replace(\"[\",\"\")\n",
    "\n",
    "freguesias_df.head(5)\n",
    "\n",
    "freguesias_df.to_excel(r\"C:\\Users\\crocs\\OneDrive - Universidade de Lisboa\\Ambiente de Trabalho\\Gonçalo\\College&Courses\\Data Analytics- IronHack\\Course Data Analytics\\Projects\\FinalProject\\GoogleMaps_Places\\Freguesias.xlsx\")"
   ]
  },
  {
   "cell_type": "code",
   "execution_count": 31,
   "id": "0b67ea21-3200-4dfb-ab6a-96166a94cda1",
   "metadata": {},
   "outputs": [],
   "source": [
    "freguesias_df = pd.read_excel(r\"C:\\Users\\crocs\\OneDrive - Universidade de Lisboa\\Ambiente de Trabalho\\Gonçalo\\College&Courses\\Data Analytics- IronHack\\Course Data Analytics\\Projects\\FinalProject\\GoogleMaps_Places\\Freguesias.xlsx\")"
   ]
  },
  {
   "cell_type": "code",
   "execution_count": 35,
   "id": "c6ba0eec-a401-4f46-9dae-37a7d7c7b6dd",
   "metadata": {},
   "outputs": [],
   "source": [
    "freguesias_df.drop(columns = [\"Unnamed: 3\",\"Index\"], inplace = True)"
   ]
  },
  {
   "cell_type": "code",
   "execution_count": 36,
   "id": "d73d5bce-cdb5-4c65-9b37-234d8fef4df1",
   "metadata": {},
   "outputs": [
    {
     "data": {
      "text/html": [
       "<div>\n",
       "<style scoped>\n",
       "    .dataframe tbody tr th:only-of-type {\n",
       "        vertical-align: middle;\n",
       "    }\n",
       "\n",
       "    .dataframe tbody tr th {\n",
       "        vertical-align: top;\n",
       "    }\n",
       "\n",
       "    .dataframe thead th {\n",
       "        text-align: right;\n",
       "    }\n",
       "</style>\n",
       "<table border=\"1\" class=\"dataframe\">\n",
       "  <thead>\n",
       "    <tr style=\"text-align: right;\">\n",
       "      <th></th>\n",
       "      <th>Freguesia</th>\n",
       "      <th>Cidade</th>\n",
       "    </tr>\n",
       "  </thead>\n",
       "  <tbody>\n",
       "    <tr>\n",
       "      <th>0</th>\n",
       "      <td>Alcântara</td>\n",
       "      <td>Lisboa</td>\n",
       "    </tr>\n",
       "    <tr>\n",
       "      <th>1</th>\n",
       "      <td>Alvalade</td>\n",
       "      <td>Lisboa</td>\n",
       "    </tr>\n",
       "  </tbody>\n",
       "</table>\n",
       "</div>"
      ],
      "text/plain": [
       "   Freguesia  Cidade\n",
       "0  Alcântara  Lisboa\n",
       "1   Alvalade  Lisboa"
      ]
     },
     "execution_count": 36,
     "metadata": {},
     "output_type": "execute_result"
    }
   ],
   "source": [
    "freguesias_df.head(2)"
   ]
  },
  {
   "cell_type": "code",
   "execution_count": 38,
   "id": "91585bd4-465b-4c78-b9f6-4e0ee6d945fb",
   "metadata": {},
   "outputs": [
    {
     "name": "stdout",
     "output_type": "stream",
     "text": [
      "Alvalade, Lisboa, Portugal\n",
      "(38.7474901, -9.13931818806065)\n"
     ]
    }
   ],
   "source": [
    "location = geolocator.geocode(freguesias_df[\"Freguesia\"][1]+\",\"+freguesias_df[\"Cidade\"][1])\n",
    "print(location.address)\n",
    "print((location.latitude, location.longitude))"
   ]
  },
  {
   "cell_type": "code",
   "execution_count": 39,
   "id": "23663d43-f093-46e7-be32-7ad312e30b8c",
   "metadata": {},
   "outputs": [],
   "source": [
    "def lat_log(row):\n",
    "    row[\"lat\"] = np.nan\n",
    "    row[\"lon\"] = np.nan\n",
    "    \n",
    "    for i in range(len(row)):\n",
    "        location = geolocator.geocode(freguesias_df[\"Freguesia\"][i]+\",\"+freguesias_df[\"Cidade\"][i])\n",
    "        row[\"lat\"].iloc[i] = location.latitude\n",
    "        row[\"lon\"].iloc[i] = location.longitude\n",
    "        \n",
    "    return row"
   ]
  },
  {
   "cell_type": "code",
   "execution_count": 41,
   "id": "6e3545ff-20ba-4cad-be47-204ac8aa851b",
   "metadata": {},
   "outputs": [],
   "source": [
    "freguesias_df = lat_log(freguesias_df)"
   ]
  },
  {
   "cell_type": "code",
   "execution_count": 42,
   "id": "441492db-1cb9-4af4-aae0-1a30d43a47e8",
   "metadata": {},
   "outputs": [
    {
     "data": {
      "text/html": [
       "<div>\n",
       "<style scoped>\n",
       "    .dataframe tbody tr th:only-of-type {\n",
       "        vertical-align: middle;\n",
       "    }\n",
       "\n",
       "    .dataframe tbody tr th {\n",
       "        vertical-align: top;\n",
       "    }\n",
       "\n",
       "    .dataframe thead th {\n",
       "        text-align: right;\n",
       "    }\n",
       "</style>\n",
       "<table border=\"1\" class=\"dataframe\">\n",
       "  <thead>\n",
       "    <tr style=\"text-align: right;\">\n",
       "      <th></th>\n",
       "      <th>Freguesia</th>\n",
       "      <th>Cidade</th>\n",
       "      <th>lat</th>\n",
       "      <th>lon</th>\n",
       "    </tr>\n",
       "  </thead>\n",
       "  <tbody>\n",
       "    <tr>\n",
       "      <th>0</th>\n",
       "      <td>Alcântara</td>\n",
       "      <td>Lisboa</td>\n",
       "      <td>38.711057</td>\n",
       "      <td>-9.182876</td>\n",
       "    </tr>\n",
       "    <tr>\n",
       "      <th>1</th>\n",
       "      <td>Alvalade</td>\n",
       "      <td>Lisboa</td>\n",
       "      <td>38.747490</td>\n",
       "      <td>-9.139318</td>\n",
       "    </tr>\n",
       "    <tr>\n",
       "      <th>2</th>\n",
       "      <td>Campo Grande</td>\n",
       "      <td>Lisboa</td>\n",
       "      <td>38.753554</td>\n",
       "      <td>-9.156403</td>\n",
       "    </tr>\n",
       "    <tr>\n",
       "      <th>3</th>\n",
       "      <td>São João de Brito</td>\n",
       "      <td>Lisboa</td>\n",
       "      <td>38.756059</td>\n",
       "      <td>-9.137589</td>\n",
       "    </tr>\n",
       "    <tr>\n",
       "      <th>4</th>\n",
       "      <td>Alto do Pina</td>\n",
       "      <td>Lisboa</td>\n",
       "      <td>38.742836</td>\n",
       "      <td>-9.127535</td>\n",
       "    </tr>\n",
       "  </tbody>\n",
       "</table>\n",
       "</div>"
      ],
      "text/plain": [
       "           Freguesia  Cidade        lat       lon\n",
       "0          Alcântara  Lisboa  38.711057 -9.182876\n",
       "1           Alvalade  Lisboa  38.747490 -9.139318\n",
       "2       Campo Grande  Lisboa  38.753554 -9.156403\n",
       "3  São João de Brito  Lisboa  38.756059 -9.137589\n",
       "4       Alto do Pina  Lisboa  38.742836 -9.127535"
      ]
     },
     "execution_count": 42,
     "metadata": {},
     "output_type": "execute_result"
    }
   ],
   "source": [
    "freguesias_df.head(5)"
   ]
  },
  {
   "cell_type": "code",
   "execution_count": 43,
   "id": "69630030-1add-4e54-90af-45972c0596ca",
   "metadata": {},
   "outputs": [],
   "source": [
    "freguesias_df.to_excel(r\"C:\\Users\\crocs\\OneDrive - Universidade de Lisboa\\Ambiente de Trabalho\\Gonçalo\\College&Courses\\Data Analytics- IronHack\\Course Data Analytics\\Projects\\FinalProject\\GoogleMaps_Places\\Freguesias.xlsx\")"
   ]
  },
  {
   "cell_type": "code",
   "execution_count": null,
   "id": "4446aa98-1fdf-4544-b7e5-1ad19aec201f",
   "metadata": {},
   "outputs": [],
   "source": []
  }
 ],
 "metadata": {
  "kernelspec": {
   "display_name": "Python 3",
   "language": "python",
   "name": "python3"
  },
  "language_info": {
   "codemirror_mode": {
    "name": "ipython",
    "version": 3
   },
   "file_extension": ".py",
   "mimetype": "text/x-python",
   "name": "python",
   "nbconvert_exporter": "python",
   "pygments_lexer": "ipython3",
   "version": "3.8.8"
  }
 },
 "nbformat": 4,
 "nbformat_minor": 5
}
